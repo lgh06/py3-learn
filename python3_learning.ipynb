{
  "nbformat": 4,
  "nbformat_minor": 0,
  "metadata": {
    "colab": {
      "name": "python3-learning.ipynb",
      "version": "0.3.2",
      "provenance": [],
      "collapsed_sections": [],
      "toc_visible": true,
      "include_colab_link": true
    },
    "kernelspec": {
      "display_name": "Python 3",
      "language": "python",
      "name": "python3"
    }
  },
  "cells": [
    {
      "cell_type": "markdown",
      "metadata": {
        "id": "view-in-github",
        "colab_type": "text"
      },
      "source": [
        "<a href=\"https://colab.research.google.com/github/lgh06/py3-learn/blob/master/python3_learning.ipynb\" target=\"_parent\"><img src=\"https://colab.research.google.com/assets/colab-badge.svg\" alt=\"Open In Colab\"/></a>"
      ]
    },
    {
      "cell_type": "markdown",
      "metadata": {
        "id": "-LMSLkKWw1sW",
        "colab_type": "toc"
      },
      "source": [
        ">[Python3 基础](#scrollTo=qVQhCqwpwWMk)\n",
        "\n",
        ">>[Simple Operations](#scrollTo=BX2AvbqJkei5)\n",
        "\n",
        ">>[Floats](#scrollTo=pLlns3VOnQTw)\n",
        "\n",
        ">>[Other numerical operations](#scrollTo=jQSa6FJcobBI)\n",
        "\n",
        ">>[Strings](#scrollTo=U0vGiPdZpv6x)\n",
        "\n",
        ">>[Simple input and output](#scrollTo=4hYpusAgrLzy)\n",
        "\n",
        ">>[String Operations](#scrollTo=2Z-v-Lbgtpmj)\n",
        "\n",
        ">>[Type conversion](#scrollTo=PvXTd2fhPlQA)\n",
        "\n",
        ">>[In-place operators](#scrollTo=5MOhfvD2ycZn)\n",
        "\n",
        ">>[if / else / elif](#scrollTo=0v9XDKUDnIEy)\n",
        "\n",
        ">>[Operator Precedence](#scrollTo=8kNCCe95OjJp)\n",
        "\n",
        ">>[while / break / continue](#scrollTo=u24fOubtRFCG)\n",
        "\n",
        ">>[三目运算符](#scrollTo=SafHRyNnTDDA)\n",
        "\n",
        ">>[List](#scrollTo=TlVIBwHAT1cG)\n",
        "\n",
        ">>>[List functions](#scrollTo=9ExSSX3VqJQ9)\n",
        "\n",
        ">>>>[range()](#scrollTo=FkZDc4xqwWP9)\n",
        "\n",
        ">>[Loop](#scrollTo=-HgGreTIwWQM)\n",
        "\n",
        ">[函数与模块](#scrollTo=i25BIxyCIchB)\n",
        "\n",
        ">>[def](#scrollTo=4OwGZ6o4LlW4)\n",
        "\n",
        ">>[return:](#scrollTo=X7dR7cooK1th)\n",
        "\n",
        ">>[comment](#scrollTo=pSoO0Pz9LguX)\n",
        "\n",
        ">>[docstrings](#scrollTo=wz8Hhf_AMske)\n",
        "\n",
        ">>[functions can be assigned and reassigned to variables](#scrollTo=PPGboGa2NO-I)\n",
        "\n",
        ">>[functions can be used as arguments](#scrollTo=CrX5jTQ6OkW4)\n",
        "\n"
      ]
    },
    {
      "cell_type": "markdown",
      "metadata": {
        "id": "qVQhCqwpwWMk",
        "colab_type": "text"
      },
      "source": [
        "# Python3 基础"
      ]
    },
    {
      "cell_type": "markdown",
      "metadata": {
        "id": "BX2AvbqJkei5",
        "colab_type": "text"
      },
      "source": [
        "## Simple Operations"
      ]
    },
    {
      "cell_type": "markdown",
      "metadata": {
        "id": "TtqqJ6LBlfaY",
        "colab_type": "text"
      },
      "source": [
        "6 / 3 结果是小数"
      ]
    },
    {
      "cell_type": "code",
      "metadata": {
        "id": "Ps440cRxj_O6",
        "colab_type": "code",
        "outputId": "5a8adfc9-e0c4-469e-ee26-5b9b161d80ea",
        "colab": {
          "base_uri": "https://localhost:8080/",
          "height": 37
        }
      },
      "source": [
        "6/3"
      ],
      "execution_count": 0,
      "outputs": [
        {
          "output_type": "execute_result",
          "data": {
            "text/plain": [
              "2.0"
            ]
          },
          "metadata": {
            "tags": []
          },
          "execution_count": 18
        }
      ]
    },
    {
      "cell_type": "markdown",
      "metadata": {
        "id": "ticUdkedlqlI",
        "colab_type": "text"
      },
      "source": [
        "仅保留整数"
      ]
    },
    {
      "cell_type": "code",
      "metadata": {
        "id": "sCjCxKnEkSZR",
        "colab_type": "code",
        "outputId": "a254c8b2-2458-4094-964b-0e0cf8818a95",
        "colab": {
          "base_uri": "https://localhost:8080/",
          "height": 35
        }
      },
      "source": [
        "6 // 3"
      ],
      "execution_count": 0,
      "outputs": [
        {
          "output_type": "execute_result",
          "data": {
            "text/plain": [
              "2"
            ]
          },
          "metadata": {
            "tags": []
          },
          "execution_count": 1
        }
      ]
    },
    {
      "cell_type": "markdown",
      "metadata": {
        "id": "_yJhTTgeluHQ",
        "colab_type": "text"
      },
      "source": [
        "取余数"
      ]
    },
    {
      "cell_type": "code",
      "metadata": {
        "id": "8DoRAhgekUOo",
        "colab_type": "code",
        "outputId": "b75d03ec-449a-4f79-9cee-77dd9b0dc0f6",
        "colab": {
          "base_uri": "https://localhost:8080/",
          "height": 37
        }
      },
      "source": [
        "7 % 3"
      ],
      "execution_count": 0,
      "outputs": [
        {
          "output_type": "execute_result",
          "data": {
            "text/plain": [
              "1"
            ]
          },
          "metadata": {
            "tags": []
          },
          "execution_count": 20
        }
      ]
    },
    {
      "cell_type": "markdown",
      "metadata": {
        "id": "pLlns3VOnQTw",
        "colab_type": "text"
      },
      "source": [
        "## Floats"
      ]
    },
    {
      "cell_type": "markdown",
      "metadata": {
        "id": "kezPGo2SncVY",
        "colab_type": "text"
      },
      "source": [
        "乘数中有小数， 结果就是小数"
      ]
    },
    {
      "cell_type": "code",
      "metadata": {
        "id": "ufSZUF0xnlYJ",
        "colab_type": "code",
        "outputId": "4920ebe9-295b-48ef-f3cf-78ff84673ea6",
        "colab": {
          "base_uri": "https://localhost:8080/",
          "height": 37
        }
      },
      "source": [
        "6 * 7.0"
      ],
      "execution_count": 0,
      "outputs": [
        {
          "output_type": "execute_result",
          "data": {
            "text/plain": [
              "42.0"
            ]
          },
          "metadata": {
            "tags": []
          },
          "execution_count": 21
        }
      ]
    },
    {
      "cell_type": "markdown",
      "metadata": {
        "id": "sAqEwjyOoH7i",
        "colab_type": "text"
      },
      "source": [
        "加数中有小数， 结果就是小数"
      ]
    },
    {
      "cell_type": "code",
      "metadata": {
        "id": "WsCR9Z7KoNJh",
        "colab_type": "code",
        "outputId": "3205ec1f-7d5f-400b-9ede-a3c75888a505",
        "colab": {
          "base_uri": "https://localhost:8080/",
          "height": 37
        }
      },
      "source": [
        "6.0 + 3"
      ],
      "execution_count": 0,
      "outputs": [
        {
          "output_type": "execute_result",
          "data": {
            "text/plain": [
              "9.0"
            ]
          },
          "metadata": {
            "tags": []
          },
          "execution_count": 22
        }
      ]
    },
    {
      "cell_type": "markdown",
      "metadata": {
        "id": "jQSa6FJcobBI",
        "colab_type": "text"
      },
      "source": [
        "## Other numerical operations"
      ]
    },
    {
      "cell_type": "markdown",
      "metadata": {
        "id": "Vd_ahDybol-Q",
        "colab_type": "text"
      },
      "source": [
        " n次方"
      ]
    },
    {
      "cell_type": "code",
      "metadata": {
        "id": "6lmA5acaoq2I",
        "colab_type": "code",
        "outputId": "4a0526cc-a35f-4ea5-8f84-8bbc92e9d598",
        "colab": {
          "base_uri": "https://localhost:8080/",
          "height": 37
        }
      },
      "source": [
        "2 ** 5"
      ],
      "execution_count": 0,
      "outputs": [
        {
          "output_type": "execute_result",
          "data": {
            "text/plain": [
              "32"
            ]
          },
          "metadata": {
            "tags": []
          },
          "execution_count": 23
        }
      ]
    },
    {
      "cell_type": "code",
      "metadata": {
        "id": "1bf5X6e6ouvp",
        "colab_type": "code",
        "outputId": "18e39f08-231e-407d-e56f-49707c2cae85",
        "colab": {
          "base_uri": "https://localhost:8080/",
          "height": 37
        }
      },
      "source": [
        "9 ** (1/2)"
      ],
      "execution_count": 0,
      "outputs": [
        {
          "output_type": "execute_result",
          "data": {
            "text/plain": [
              "3.0"
            ]
          },
          "metadata": {
            "tags": []
          },
          "execution_count": 24
        }
      ]
    },
    {
      "cell_type": "markdown",
      "metadata": {
        "id": "nqQnjn-upBIY",
        "colab_type": "text"
      },
      "source": [
        "（除法中的）商和余数"
      ]
    },
    {
      "cell_type": "code",
      "metadata": {
        "id": "Djr0Ok0UpXRT",
        "colab_type": "code",
        "outputId": "5dd1980e-c11b-409a-a296-2bea01e2fcb6",
        "colab": {
          "base_uri": "https://localhost:8080/",
          "height": 37
        }
      },
      "source": [
        "20 / 6"
      ],
      "execution_count": 0,
      "outputs": [
        {
          "output_type": "execute_result",
          "data": {
            "text/plain": [
              "3.3333333333333335"
            ]
          },
          "metadata": {
            "tags": []
          },
          "execution_count": 25
        }
      ]
    },
    {
      "cell_type": "code",
      "metadata": {
        "id": "QTu240njpZJy",
        "colab_type": "code",
        "collapsed": true,
        "outputId": "22e7597e-5ae6-42e1-c7e0-edb842f65ce9",
        "colab": {
          "base_uri": "https://localhost:8080/",
          "height": 37
        }
      },
      "source": [
        "1.25 % 0.5"
      ],
      "execution_count": 0,
      "outputs": [
        {
          "output_type": "execute_result",
          "data": {
            "text/plain": [
              "0.25"
            ]
          },
          "metadata": {
            "tags": []
          },
          "execution_count": 26
        }
      ]
    },
    {
      "cell_type": "markdown",
      "metadata": {
        "id": "U0vGiPdZpv6x",
        "colab_type": "text"
      },
      "source": [
        "## Strings"
      ]
    },
    {
      "cell_type": "code",
      "metadata": {
        "id": "5-CHebKpp1-A",
        "colab_type": "code",
        "collapsed": true,
        "outputId": "840488d5-67f8-4ec9-cee2-2d5858876e48",
        "colab": {
          "base_uri": "https://localhost:8080/",
          "height": 37
        }
      },
      "source": [
        "\"Hello\""
      ],
      "execution_count": 0,
      "outputs": [
        {
          "output_type": "execute_result",
          "data": {
            "text/plain": [
              "'Hello'"
            ]
          },
          "metadata": {
            "tags": []
          },
          "execution_count": 27
        }
      ]
    },
    {
      "cell_type": "code",
      "metadata": {
        "id": "dMG4H24Ap4VL",
        "colab_type": "code",
        "collapsed": true,
        "outputId": "e82024d3-70c2-493c-e654-cfcf0525ee83",
        "colab": {
          "base_uri": "https://localhost:8080/",
          "height": 37
        }
      },
      "source": [
        "'test'"
      ],
      "execution_count": 0,
      "outputs": [
        {
          "output_type": "execute_result",
          "data": {
            "text/plain": [
              "'test'"
            ]
          },
          "metadata": {
            "tags": []
          },
          "execution_count": 28
        }
      ]
    },
    {
      "cell_type": "markdown",
      "metadata": {
        "id": "Xx0ThYgCqNCB",
        "colab_type": "text"
      },
      "source": [
        "转义符 blackslash"
      ]
    },
    {
      "cell_type": "code",
      "metadata": {
        "id": "nJQ94VjQqPop",
        "colab_type": "code",
        "collapsed": true,
        "outputId": "755578ca-0d27-4ddf-d5a1-e6666125172a",
        "colab": {
          "base_uri": "https://localhost:8080/",
          "height": 37
        }
      },
      "source": [
        "'My mom\\'s friend'"
      ],
      "execution_count": 0,
      "outputs": [
        {
          "output_type": "execute_result",
          "data": {
            "text/plain": [
              "\"My mom's friend\""
            ]
          },
          "metadata": {
            "tags": []
          },
          "execution_count": 29
        }
      ]
    },
    {
      "cell_type": "markdown",
      "metadata": {
        "id": "r1DZuM3FqhPi",
        "colab_type": "text"
      },
      "source": [
        "New lines"
      ]
    },
    {
      "cell_type": "code",
      "metadata": {
        "id": "S57Q52X6q0Tc",
        "colab_type": "code",
        "collapsed": true,
        "outputId": "1406ae5a-b65e-45ee-d8b9-00609b9d3fee",
        "colab": {
          "base_uri": "https://localhost:8080/",
          "height": 37
        }
      },
      "source": [
        "\"\"\"\n",
        "hi,\n",
        "new line test.\n",
        "OK?\n",
        "\"\"\""
      ],
      "execution_count": 0,
      "outputs": [
        {
          "output_type": "execute_result",
          "data": {
            "text/plain": [
              "'\\nhi,\\nnew line test.\\nOK?\\n'"
            ]
          },
          "metadata": {
            "tags": []
          },
          "execution_count": 30
        }
      ]
    },
    {
      "cell_type": "markdown",
      "metadata": {
        "id": "4hYpusAgrLzy",
        "colab_type": "text"
      },
      "source": [
        "## Simple input and output"
      ]
    },
    {
      "cell_type": "markdown",
      "metadata": {
        "id": "FpNSzP7qrb5x",
        "colab_type": "text"
      },
      "source": [
        "print() 结果不显示引号"
      ]
    },
    {
      "cell_type": "code",
      "metadata": {
        "id": "WMzG1J1_rQYU",
        "colab_type": "code",
        "collapsed": true,
        "outputId": "ef2fc296-2e45-4f76-d31b-181bb54142bc",
        "colab": {
          "base_uri": "https://localhost:8080/",
          "height": 55
        }
      },
      "source": [
        "print(\"Hello\\nWorld!\")"
      ],
      "execution_count": 0,
      "outputs": [
        {
          "output_type": "stream",
          "text": [
            "Hello\n",
            "World!\n"
          ],
          "name": "stdout"
        }
      ]
    },
    {
      "cell_type": "code",
      "metadata": {
        "id": "v1JaoZq8r_TJ",
        "colab_type": "code",
        "collapsed": true,
        "outputId": "298b5916-bf3b-4068-db68-f97d950b1665",
        "colab": {
          "base_uri": "https://localhost:8080/",
          "height": 75
        }
      },
      "source": [
        "inp = input(\"Enter something here:\");\n",
        "print(\"Your input is \" + inp)"
      ],
      "execution_count": 0,
      "outputs": [
        {
          "output_type": "stream",
          "text": [
            "Enter something here:llll\n",
            "Your input is llll\n"
          ],
          "name": "stdout"
        }
      ]
    },
    {
      "cell_type": "markdown",
      "metadata": {
        "id": "2Z-v-Lbgtpmj",
        "colab_type": "text"
      },
      "source": [
        "## String Operations"
      ]
    },
    {
      "cell_type": "code",
      "metadata": {
        "id": "U8qSY0ERtvJU",
        "colab_type": "code",
        "collapsed": true,
        "outputId": "a9075346-dcf6-4eb9-9103-f53a64a769cb",
        "colab": {
          "base_uri": "https://localhost:8080/",
          "height": 37
        }
      },
      "source": [
        "\"2\" + \"2\""
      ],
      "execution_count": 0,
      "outputs": [
        {
          "output_type": "execute_result",
          "data": {
            "text/plain": [
              "'22'"
            ]
          },
          "metadata": {
            "tags": []
          },
          "execution_count": 33
        }
      ]
    },
    {
      "cell_type": "markdown",
      "metadata": {
        "id": "axzJbN-cuMBd",
        "colab_type": "text"
      },
      "source": [
        "数字与字符串相加，错误"
      ]
    },
    {
      "cell_type": "code",
      "metadata": {
        "id": "fcni4-J9txYr",
        "colab_type": "code",
        "collapsed": true,
        "outputId": "c6167482-b663-41ae-8a6e-8013b6858f47",
        "colab": {
          "base_uri": "https://localhost:8080/",
          "height": 183
        }
      },
      "source": [
        "2 + \"2\""
      ],
      "execution_count": 0,
      "outputs": [
        {
          "output_type": "error",
          "ename": "TypeError",
          "evalue": "ignored",
          "traceback": [
            "\u001b[0;31m---------------------------------------------------------------------------\u001b[0m",
            "\u001b[0;31mTypeError\u001b[0m                                 Traceback (most recent call last)",
            "\u001b[0;32m<ipython-input-34-80052203e394>\u001b[0m in \u001b[0;36m<module>\u001b[0;34m()\u001b[0m\n\u001b[0;32m----> 1\u001b[0;31m \u001b[0;36m2\u001b[0m \u001b[0;34m+\u001b[0m \u001b[0;34m\"2\"\u001b[0m\u001b[0;34m\u001b[0m\u001b[0m\n\u001b[0m",
            "\u001b[0;31mTypeError\u001b[0m: unsupported operand type(s) for +: 'int' and 'str'"
          ]
        }
      ]
    },
    {
      "cell_type": "code",
      "metadata": {
        "id": "6VSQtQYvt8hZ",
        "colab_type": "code",
        "outputId": "527cf9a8-ab88-40d1-8e0d-2a26558eda6e",
        "colab": {
          "base_uri": "https://localhost:8080/",
          "height": 37
        }
      },
      "source": [
        "str(2)+\"2\""
      ],
      "execution_count": 0,
      "outputs": [
        {
          "output_type": "execute_result",
          "data": {
            "text/plain": [
              "'22'"
            ]
          },
          "metadata": {
            "tags": []
          },
          "execution_count": 35
        }
      ]
    },
    {
      "cell_type": "markdown",
      "metadata": {
        "id": "g1gNcMIXuWBJ",
        "colab_type": "text"
      },
      "source": [
        "整数可以与字符串相乘"
      ]
    },
    {
      "cell_type": "code",
      "metadata": {
        "id": "ITcVRqMLuZZx",
        "colab_type": "code",
        "outputId": "c514fb98-6ba7-43ff-b704-88ee79583942",
        "colab": {
          "base_uri": "https://localhost:8080/",
          "height": 37
        }
      },
      "source": [
        "3*\"Hello\""
      ],
      "execution_count": 0,
      "outputs": [
        {
          "output_type": "execute_result",
          "data": {
            "text/plain": [
              "'HelloHelloHello'"
            ]
          },
          "metadata": {
            "tags": []
          },
          "execution_count": 37
        }
      ]
    },
    {
      "cell_type": "markdown",
      "metadata": {
        "id": "PvXTd2fhPlQA",
        "colab_type": "text"
      },
      "source": [
        "## Type conversion"
      ]
    },
    {
      "cell_type": "code",
      "metadata": {
        "id": "kWAuejR5PuV3",
        "colab_type": "code",
        "outputId": "fa62519f-503f-42a4-f797-040cd8d6019d",
        "colab": {
          "base_uri": "https://localhost:8080/",
          "height": 37
        }
      },
      "source": [
        "int(\"6\")"
      ],
      "execution_count": 0,
      "outputs": [
        {
          "output_type": "execute_result",
          "data": {
            "text/plain": [
              "6"
            ]
          },
          "metadata": {
            "tags": []
          },
          "execution_count": 38
        }
      ]
    },
    {
      "cell_type": "code",
      "metadata": {
        "id": "un-HGnB4QiRh",
        "colab_type": "code",
        "outputId": "4788b747-b4c8-4285-c046-0f0a263ec1a0",
        "colab": {
          "base_uri": "https://localhost:8080/",
          "height": 37
        }
      },
      "source": [
        "str(999)"
      ],
      "execution_count": 0,
      "outputs": [
        {
          "output_type": "execute_result",
          "data": {
            "text/plain": [
              "'999'"
            ]
          },
          "metadata": {
            "tags": []
          },
          "execution_count": 39
        }
      ]
    },
    {
      "cell_type": "code",
      "metadata": {
        "id": "Iuon1pRsQjyN",
        "colab_type": "code",
        "outputId": "8f72bad9-5a3a-48d7-841a-b80e00ae8bea",
        "colab": {
          "base_uri": "https://localhost:8080/",
          "height": 37
        }
      },
      "source": [
        "bool(\"true\")"
      ],
      "execution_count": 0,
      "outputs": [
        {
          "output_type": "execute_result",
          "data": {
            "text/plain": [
              "True"
            ]
          },
          "metadata": {
            "tags": []
          },
          "execution_count": 40
        }
      ]
    },
    {
      "cell_type": "code",
      "metadata": {
        "id": "bmm8zrTbQoRt",
        "colab_type": "code",
        "outputId": "6aae2deb-e7d4-400b-e649-9a30bf864484",
        "colab": {
          "base_uri": "https://localhost:8080/",
          "height": 37
        }
      },
      "source": [
        "bool(\"\")"
      ],
      "execution_count": 0,
      "outputs": [
        {
          "output_type": "execute_result",
          "data": {
            "text/plain": [
              "False"
            ]
          },
          "metadata": {
            "tags": []
          },
          "execution_count": 41
        }
      ]
    },
    {
      "cell_type": "code",
      "metadata": {
        "id": "_PL0Yc7VQuoF",
        "colab_type": "code",
        "outputId": "64beb48f-d712-4a1a-abd2-d1592ea9cd03",
        "colab": {
          "base_uri": "https://localhost:8080/",
          "height": 37
        }
      },
      "source": [
        "float(\"4\")"
      ],
      "execution_count": 0,
      "outputs": [
        {
          "output_type": "execute_result",
          "data": {
            "text/plain": [
              "4.0"
            ]
          },
          "metadata": {
            "tags": []
          },
          "execution_count": 42
        }
      ]
    },
    {
      "cell_type": "code",
      "metadata": {
        "id": "dIu7t1EswWOd",
        "colab_type": "code",
        "outputId": "2cea8e98-4d18-4e4a-acaa-ce2990ffdd86",
        "colab": {
          "base_uri": "https://localhost:8080/",
          "height": 37
        }
      },
      "source": [
        "True == 1"
      ],
      "execution_count": 0,
      "outputs": [
        {
          "output_type": "execute_result",
          "data": {
            "text/plain": [
              "True"
            ]
          },
          "metadata": {
            "tags": []
          },
          "execution_count": 43
        }
      ]
    },
    {
      "cell_type": "code",
      "metadata": {
        "id": "OLPobnCnwWOf",
        "colab_type": "code",
        "outputId": "fbee495e-9a24-4cb7-d77a-16a35a2db945",
        "colab": {
          "base_uri": "https://localhost:8080/",
          "height": 37
        }
      },
      "source": [
        "999 is \"999\""
      ],
      "execution_count": 0,
      "outputs": [
        {
          "output_type": "execute_result",
          "data": {
            "text/plain": [
              "False"
            ]
          },
          "metadata": {
            "tags": []
          },
          "execution_count": 44
        }
      ]
    },
    {
      "cell_type": "code",
      "metadata": {
        "id": "MC1NCeaqwWOi",
        "colab_type": "code",
        "outputId": "8ea87d28-060e-4208-8fd5-7df2d6c7a4d2",
        "colab": {
          "base_uri": "https://localhost:8080/",
          "height": 37
        }
      },
      "source": [
        "999 is not \"999\""
      ],
      "execution_count": 0,
      "outputs": [
        {
          "output_type": "execute_result",
          "data": {
            "text/plain": [
              "True"
            ]
          },
          "metadata": {
            "tags": []
          },
          "execution_count": 45
        }
      ]
    },
    {
      "cell_type": "code",
      "metadata": {
        "id": "l5aMbcHCwWOp",
        "colab_type": "code",
        "outputId": "6599e0d7-1563-4358-cdec-83a9f82d6577",
        "colab": {
          "base_uri": "https://localhost:8080/",
          "height": 37
        }
      },
      "source": [
        "print(id(999), id(\"999\"))"
      ],
      "execution_count": 0,
      "outputs": [
        {
          "output_type": "stream",
          "text": [
            "140063754154576 140063754208680\n"
          ],
          "name": "stdout"
        }
      ]
    },
    {
      "cell_type": "code",
      "metadata": {
        "id": "yGuFawsBwWOu",
        "colab_type": "code",
        "outputId": "57ff5943-00f4-4fc2-a225-73787201b414",
        "colab": {
          "base_uri": "https://localhost:8080/",
          "height": 37
        }
      },
      "source": [
        "print(id(999), id(999))"
      ],
      "execution_count": 0,
      "outputs": [
        {
          "output_type": "stream",
          "text": [
            "140063754154928 140063754154928\n"
          ],
          "name": "stdout"
        }
      ]
    },
    {
      "cell_type": "code",
      "metadata": {
        "id": "6EvhukC0wWO0",
        "colab_type": "code",
        "outputId": "cc87f35f-ea93-4795-fcfb-0613a929c920",
        "colab": {
          "base_uri": "https://localhost:8080/",
          "height": 37
        }
      },
      "source": [
        "999 is 999"
      ],
      "execution_count": 0,
      "outputs": [
        {
          "output_type": "execute_result",
          "data": {
            "text/plain": [
              "True"
            ]
          },
          "metadata": {
            "tags": []
          },
          "execution_count": 48
        }
      ]
    },
    {
      "cell_type": "markdown",
      "metadata": {
        "id": "5MOhfvD2ycZn",
        "colab_type": "text"
      },
      "source": [
        "## In-place operators"
      ]
    },
    {
      "cell_type": "code",
      "metadata": {
        "id": "tXaxEBcoygdt",
        "colab_type": "code",
        "outputId": "68eac790-379c-4746-baab-bded33f3131b",
        "colab": {
          "base_uri": "https://localhost:8080/",
          "height": 37
        }
      },
      "source": [
        "s = \"string\";\n",
        "s *= 3;\n",
        "print(s)"
      ],
      "execution_count": 0,
      "outputs": [
        {
          "output_type": "stream",
          "text": [
            "stringstringstring\n"
          ],
          "name": "stdout"
        }
      ]
    },
    {
      "cell_type": "markdown",
      "metadata": {
        "id": "0v9XDKUDnIEy",
        "colab_type": "text"
      },
      "source": [
        "## if / else / elif"
      ]
    },
    {
      "cell_type": "code",
      "metadata": {
        "id": "tgJv9xf2nOv2",
        "colab_type": "code",
        "outputId": "1db3cd02-523c-4939-f1e6-82f11296561e",
        "colab": {
          "base_uri": "https://localhost:8080/",
          "height": 55
        }
      },
      "source": [
        "x = 5\n",
        "if x > 3:\n",
        "  print(\"lol\")\n",
        "  \n",
        "  \n",
        "if x > 6:  \n",
        "  0\n",
        "elif x < 3: \n",
        "  0\n",
        "else:\n",
        "  print('ahaha')"
      ],
      "execution_count": 0,
      "outputs": [
        {
          "output_type": "stream",
          "text": [
            "lol\n",
            "ahaha\n"
          ],
          "name": "stdout"
        }
      ]
    },
    {
      "cell_type": "markdown",
      "metadata": {
        "id": "8kNCCe95OjJp",
        "colab_type": "text"
      },
      "source": [
        "## Operator Precedence"
      ]
    },
    {
      "cell_type": "markdown",
      "metadata": {
        "id": "_-EEa9CSU4Fy",
        "colab_type": "text"
      },
      "source": [
        "https://docs.python.org/3/reference/expressions.html#operator-precedence  "
      ]
    },
    {
      "cell_type": "code",
      "metadata": {
        "id": "wPwR8ZehOn_O",
        "colab_type": "code",
        "outputId": "f2d434cb-8614-4aab-ddd2-0c99e0b656eb",
        "colab": {
          "base_uri": "https://localhost:8080/",
          "height": 37
        }
      },
      "source": [
        "x = 4\n",
        "y = 2\n",
        "if not 1 + 1 == y or x == 4 and 7 == 8 :\n",
        "  print(\"Yes\")\n",
        "elif x > y :\n",
        "  print(\"No\")"
      ],
      "execution_count": 0,
      "outputs": [
        {
          "output_type": "stream",
          "text": [
            "No\n"
          ],
          "name": "stdout"
        }
      ]
    },
    {
      "cell_type": "code",
      "metadata": {
        "id": "I0YHCdJZPOQO",
        "colab_type": "code",
        "outputId": "b9e41d7a-43e4-48f3-8335-7ac0fa8f05c7",
        "colab": {
          "base_uri": "https://localhost:8080/",
          "height": 37
        }
      },
      "source": [
        "not True or True and False"
      ],
      "execution_count": 0,
      "outputs": [
        {
          "output_type": "execute_result",
          "data": {
            "text/plain": [
              "False"
            ]
          },
          "metadata": {
            "tags": []
          },
          "execution_count": 52
        }
      ]
    },
    {
      "cell_type": "code",
      "metadata": {
        "id": "Q_VvPsUSPXke",
        "colab_type": "code",
        "outputId": "05b23683-4dbf-404e-fa76-c75b48dd5f5b",
        "colab": {
          "base_uri": "https://localhost:8080/",
          "height": 37
        }
      },
      "source": [
        "(not True) or (True and False)"
      ],
      "execution_count": 0,
      "outputs": [
        {
          "output_type": "execute_result",
          "data": {
            "text/plain": [
              "False"
            ]
          },
          "metadata": {
            "tags": []
          },
          "execution_count": 53
        }
      ]
    },
    {
      "cell_type": "markdown",
      "metadata": {
        "id": "lsnaY9pWSR7s",
        "colab_type": "text"
      },
      "source": [
        "not  优先级 高于 and 高于 or"
      ]
    },
    {
      "cell_type": "code",
      "metadata": {
        "id": "JL2cs2jWSBBA",
        "colab_type": "code",
        "outputId": "7db8d97f-0a00-4116-ce0b-c217323a4b64",
        "colab": {
          "base_uri": "https://localhost:8080/",
          "height": 37
        }
      },
      "source": [
        "not False or False and False"
      ],
      "execution_count": 0,
      "outputs": [
        {
          "output_type": "execute_result",
          "data": {
            "text/plain": [
              "True"
            ]
          },
          "metadata": {
            "tags": []
          },
          "execution_count": 54
        }
      ]
    },
    {
      "cell_type": "markdown",
      "metadata": {
        "id": "u24fOubtRFCG",
        "colab_type": "text"
      },
      "source": [
        "## while / break / continue"
      ]
    },
    {
      "cell_type": "code",
      "metadata": {
        "id": "gZkV6gR-RJsd",
        "colab_type": "code",
        "outputId": "ac0cfbec-6f7f-4c71-d19d-6cf567f87862",
        "colab": {
          "base_uri": "https://localhost:8080/",
          "height": 130
        }
      },
      "source": [
        "i = 5\n",
        "while i >=0 :\n",
        "  print(i)\n",
        "  i -= 1\n"
      ],
      "execution_count": 0,
      "outputs": [
        {
          "output_type": "stream",
          "text": [
            "5\n",
            "4\n",
            "3\n",
            "2\n",
            "1\n",
            "0\n"
          ],
          "name": "stdout"
        }
      ]
    },
    {
      "cell_type": "code",
      "metadata": {
        "id": "m_9WNkV0Sgcd",
        "colab_type": "code",
        "outputId": "8ca8be01-ae9a-48f8-853f-d864821edca9",
        "colab": {
          "base_uri": "https://localhost:8080/",
          "height": 130
        }
      },
      "source": [
        "i = 0\n",
        "while True:\n",
        "  i = i + 1\n",
        "  if i == 2:\n",
        "    print(\"Skipping 2\")\n",
        "    continue\n",
        "  if i == 5:\n",
        "    print(\"Breaking\")\n",
        "    break\n",
        "  print(i)\n",
        "\n",
        "print(\"Finished\")"
      ],
      "execution_count": 0,
      "outputs": [
        {
          "output_type": "stream",
          "text": [
            "1\n",
            "Skipping 2\n",
            "3\n",
            "4\n",
            "Breaking\n",
            "Finished\n"
          ],
          "name": "stdout"
        }
      ]
    },
    {
      "cell_type": "markdown",
      "metadata": {
        "id": "SafHRyNnTDDA",
        "colab_type": "text"
      },
      "source": [
        "##  三目运算符"
      ]
    },
    {
      "cell_type": "markdown",
      "metadata": {
        "id": "TiGwd1PDTa4s",
        "colab_type": "text"
      },
      "source": [
        "i = ( 5>3 ) ? 1 : 0"
      ]
    },
    {
      "cell_type": "code",
      "metadata": {
        "id": "SlGPwDowSSnk",
        "colab_type": "code",
        "outputId": "54bc6a2c-c654-4737-b423-26a23bc1ccca",
        "colab": {
          "base_uri": "https://localhost:8080/",
          "height": 37
        }
      },
      "source": [
        "i = 1 if 5>3 else 0\n",
        "print(i)"
      ],
      "execution_count": 0,
      "outputs": [
        {
          "output_type": "stream",
          "text": [
            "1\n"
          ],
          "name": "stdout"
        }
      ]
    },
    {
      "cell_type": "markdown",
      "metadata": {
        "id": "TlVIBwHAT1cG",
        "colab_type": "text"
      },
      "source": [
        "## List"
      ]
    },
    {
      "cell_type": "code",
      "metadata": {
        "id": "_cYEpmsJT6Jb",
        "colab_type": "code",
        "outputId": "d7aeb090-4648-4928-fc8b-372842a016c2",
        "colab": {
          "base_uri": "https://localhost:8080/",
          "height": 37
        }
      },
      "source": [
        "words = [\"aaa\",\"bbb\",\"ccc\", [\"aa\",\"bb\"]]\n",
        "print(words[3][1])"
      ],
      "execution_count": 0,
      "outputs": [
        {
          "output_type": "stream",
          "text": [
            "bb\n"
          ],
          "name": "stdout"
        }
      ]
    },
    {
      "cell_type": "markdown",
      "metadata": {
        "id": "eYzp8TgnVeqg",
        "colab_type": "text"
      },
      "source": [
        "\n",
        "数组可以直接相加"
      ]
    },
    {
      "cell_type": "code",
      "metadata": {
        "id": "VPwaaqXmU9px",
        "colab_type": "code",
        "outputId": "fec290bb-40b6-435f-ff99-3c9183161f39",
        "colab": {
          "base_uri": "https://localhost:8080/",
          "height": 37
        }
      },
      "source": [
        "a = [1,2,3,4]\n",
        "b = [5,6]\n",
        "a + b"
      ],
      "execution_count": 0,
      "outputs": [
        {
          "output_type": "execute_result",
          "data": {
            "text/plain": [
              "[1, 2, 3, 4, 5, 6]"
            ]
          },
          "metadata": {
            "tags": []
          },
          "execution_count": 59
        }
      ]
    },
    {
      "cell_type": "markdown",
      "metadata": {
        "id": "kkERHtO3VUII",
        "colab_type": "text"
      },
      "source": [
        "整数n乘数组，数组内元素重复n次"
      ]
    },
    {
      "cell_type": "code",
      "metadata": {
        "id": "1IA58_pjVPM4",
        "colab_type": "code",
        "outputId": "5a351054-65e9-4bf5-a1f8-b262cba51a6c",
        "colab": {
          "base_uri": "https://localhost:8080/",
          "height": 37
        }
      },
      "source": [
        "a = [1,2,3,4]\n",
        "b = [5,6]\n",
        "a*3 + b*2"
      ],
      "execution_count": 0,
      "outputs": [
        {
          "output_type": "execute_result",
          "data": {
            "text/plain": [
              "[1, 2, 3, 4, 1, 2, 3, 4, 1, 2, 3, 4, 5, 6, 5, 6]"
            ]
          },
          "metadata": {
            "tags": []
          },
          "execution_count": 60
        }
      ]
    },
    {
      "cell_type": "markdown",
      "metadata": {
        "id": "EWN-E-edWcjf",
        "colab_type": "text"
      },
      "source": [
        "使用**in**判断某元素是否在数组内"
      ]
    },
    {
      "cell_type": "code",
      "metadata": {
        "id": "KnWS5U0TW3RS",
        "colab_type": "code",
        "outputId": "9321b943-e47d-4ca2-c18e-f565edba36cc",
        "colab": {
          "base_uri": "https://localhost:8080/",
          "height": 55
        }
      },
      "source": [
        "a = [1,2,3,4]\n",
        "print(3 in a)\n",
        "print(\"str\" in a)"
      ],
      "execution_count": 0,
      "outputs": [
        {
          "output_type": "stream",
          "text": [
            "True\n",
            "False\n"
          ],
          "name": "stdout"
        }
      ]
    },
    {
      "cell_type": "markdown",
      "metadata": {
        "id": "lInmsEBGhr5o",
        "colab_type": "text"
      },
      "source": [
        "可结合not、in使用"
      ]
    },
    {
      "cell_type": "code",
      "metadata": {
        "id": "Y-iRkMBOhvzr",
        "colab_type": "code",
        "outputId": "dcf51921-e031-430c-884e-d1b88d6d2703",
        "colab": {
          "base_uri": "https://localhost:8080/",
          "height": 55
        }
      },
      "source": [
        "a = [1,2,3,4]\n",
        "print(6 not in a)\n",
        "print(not 6 in a)"
      ],
      "execution_count": 0,
      "outputs": [
        {
          "output_type": "stream",
          "text": [
            "True\n",
            "True\n"
          ],
          "name": "stdout"
        }
      ]
    },
    {
      "cell_type": "markdown",
      "metadata": {
        "id": "9ExSSX3VqJQ9",
        "colab_type": "text"
      },
      "source": [
        "### List functions"
      ]
    },
    {
      "cell_type": "code",
      "metadata": {
        "id": "lfFq5NzxqMwi",
        "colab_type": "code",
        "outputId": "c69f2d59-4e72-4f46-f573-b1773838ebc6",
        "colab": {
          "base_uri": "https://localhost:8080/",
          "height": 55
        }
      },
      "source": [
        "a = [1,2,3]\n",
        "a.append(555)\n",
        "print(a)\n",
        "print(len(a))"
      ],
      "execution_count": 0,
      "outputs": [
        {
          "output_type": "stream",
          "text": [
            "[1, 2, 3, 555]\n",
            "4\n"
          ],
          "name": "stdout"
        }
      ]
    },
    {
      "cell_type": "code",
      "metadata": {
        "id": "PlleIP8hxYHA",
        "colab_type": "code",
        "outputId": "f745df81-bae0-442f-e792-a550e21efe2c",
        "colab": {
          "base_uri": "https://localhost:8080/",
          "height": 258
        }
      },
      "source": [
        "a = [1,2,3]\n",
        "a.insert(2,555)\n",
        "print(a)\n",
        "print(a.index(2))\n",
        "print(a.index(\"88888\"))"
      ],
      "execution_count": 0,
      "outputs": [
        {
          "output_type": "stream",
          "text": [
            "[1, 2, 555, 3]\n",
            "1\n"
          ],
          "name": "stdout"
        },
        {
          "output_type": "error",
          "ename": "ValueError",
          "evalue": "ignored",
          "traceback": [
            "\u001b[0;31m---------------------------------------------------------------------------\u001b[0m",
            "\u001b[0;31mValueError\u001b[0m                                Traceback (most recent call last)",
            "\u001b[0;32m<ipython-input-64-7bf416853ab3>\u001b[0m in \u001b[0;36m<module>\u001b[0;34m()\u001b[0m\n\u001b[1;32m      3\u001b[0m \u001b[0mprint\u001b[0m\u001b[0;34m(\u001b[0m\u001b[0ma\u001b[0m\u001b[0;34m)\u001b[0m\u001b[0;34m\u001b[0m\u001b[0m\n\u001b[1;32m      4\u001b[0m \u001b[0mprint\u001b[0m\u001b[0;34m(\u001b[0m\u001b[0ma\u001b[0m\u001b[0;34m.\u001b[0m\u001b[0mindex\u001b[0m\u001b[0;34m(\u001b[0m\u001b[0;36m2\u001b[0m\u001b[0;34m)\u001b[0m\u001b[0;34m)\u001b[0m\u001b[0;34m\u001b[0m\u001b[0m\n\u001b[0;32m----> 5\u001b[0;31m \u001b[0mprint\u001b[0m\u001b[0;34m(\u001b[0m\u001b[0ma\u001b[0m\u001b[0;34m.\u001b[0m\u001b[0mindex\u001b[0m\u001b[0;34m(\u001b[0m\u001b[0;34m\"88888\"\u001b[0m\u001b[0;34m)\u001b[0m\u001b[0;34m)\u001b[0m\u001b[0;34m\u001b[0m\u001b[0m\n\u001b[0m",
            "\u001b[0;31mValueError\u001b[0m: '88888' is not in list"
          ]
        }
      ]
    },
    {
      "cell_type": "markdown",
      "metadata": {
        "id": "FkZDc4xqwWP9",
        "colab_type": "text"
      },
      "source": [
        "#### range()"
      ]
    },
    {
      "cell_type": "code",
      "metadata": {
        "id": "16uRMeOOwWP9",
        "colab_type": "code",
        "outputId": "e88afd38-58e4-40ae-8a9b-b75c0cd85102",
        "colab": {
          "base_uri": "https://localhost:8080/",
          "height": 37
        }
      },
      "source": [
        "range(5) == range (0,5)"
      ],
      "execution_count": 0,
      "outputs": [
        {
          "output_type": "execute_result",
          "data": {
            "text/plain": [
              "True"
            ]
          },
          "metadata": {
            "tags": []
          },
          "execution_count": 65
        }
      ]
    },
    {
      "cell_type": "markdown",
      "metadata": {
        "id": "a6q7o2pYwWQC",
        "colab_type": "text"
      },
      "source": [
        "含3 不含8"
      ]
    },
    {
      "cell_type": "code",
      "metadata": {
        "id": "CtqFcTAmwWQC",
        "colab_type": "code",
        "outputId": "05a2c5e4-7208-4598-868c-63a80fdc1801",
        "colab": {
          "base_uri": "https://localhost:8080/",
          "height": 37
        }
      },
      "source": [
        "list(range(3,8))"
      ],
      "execution_count": 0,
      "outputs": [
        {
          "output_type": "execute_result",
          "data": {
            "text/plain": [
              "[3, 4, 5, 6, 7]"
            ]
          },
          "metadata": {
            "tags": []
          },
          "execution_count": 66
        }
      ]
    },
    {
      "cell_type": "markdown",
      "metadata": {
        "id": "35mz5G-IwWQF",
        "colab_type": "text"
      },
      "source": [
        "range()返回一个对象 需要用list才能转换为数组"
      ]
    },
    {
      "cell_type": "code",
      "metadata": {
        "id": "igon935HwWQF",
        "colab_type": "code",
        "outputId": "c825deb1-4345-494a-fee0-1048febfb6a9",
        "colab": {
          "base_uri": "https://localhost:8080/",
          "height": 37
        }
      },
      "source": [
        "print(range(3,8))"
      ],
      "execution_count": 0,
      "outputs": [
        {
          "output_type": "stream",
          "text": [
            "range(3, 8)\n"
          ],
          "name": "stdout"
        }
      ]
    },
    {
      "cell_type": "markdown",
      "metadata": {
        "id": "mqjtpjImwWQK",
        "colab_type": "text"
      },
      "source": [
        "range可以接受第三个参数n，隔n个数，输出一次"
      ]
    },
    {
      "cell_type": "code",
      "metadata": {
        "id": "t24tqJ-4wWQK",
        "colab_type": "code",
        "outputId": "f367f8db-f5d8-4cd2-a63f-6952d560d436",
        "colab": {
          "base_uri": "https://localhost:8080/",
          "height": 37
        }
      },
      "source": [
        "list(range(3,20,5))"
      ],
      "execution_count": 0,
      "outputs": [
        {
          "output_type": "execute_result",
          "data": {
            "text/plain": [
              "[3, 8, 13, 18]"
            ]
          },
          "metadata": {
            "tags": []
          },
          "execution_count": 68
        }
      ]
    },
    {
      "cell_type": "markdown",
      "metadata": {
        "id": "-HgGreTIwWQM",
        "colab_type": "text"
      },
      "source": [
        "## Loop"
      ]
    },
    {
      "cell_type": "code",
      "metadata": {
        "id": "x5ijSIrAwWQM",
        "colab_type": "code",
        "outputId": "50a49448-05de-4e7a-bf77-260bdea0183d",
        "colab": {
          "base_uri": "https://localhost:8080/",
          "height": 111
        }
      },
      "source": [
        "words = [\"aaa\",\"bbb\",\"ccc\",\"ddd\",\"eee\"]\n",
        "max_index = len(words) - 1\n",
        "counter = 0\n",
        "while counter <= max_index:\n",
        "  print(words[counter])\n",
        "  counter += 1"
      ],
      "execution_count": 0,
      "outputs": [
        {
          "output_type": "stream",
          "text": [
            "aaa\n",
            "bbb\n",
            "ccc\n",
            "ddd\n",
            "eee\n"
          ],
          "name": "stdout"
        }
      ]
    },
    {
      "cell_type": "code",
      "metadata": {
        "id": "fhdAPFmZwWQO",
        "colab_type": "code",
        "outputId": "49153744-6430-44bb-9545-91af2d434037",
        "colab": {
          "base_uri": "https://localhost:8080/",
          "height": 111
        }
      },
      "source": [
        "for word in words:\n",
        "  print(word)"
      ],
      "execution_count": 0,
      "outputs": [
        {
          "output_type": "stream",
          "text": [
            "aaa\n",
            "bbb\n",
            "ccc\n",
            "ddd\n",
            "eee\n"
          ],
          "name": "stdout"
        }
      ]
    },
    {
      "cell_type": "code",
      "metadata": {
        "id": "Na-KuxcswWQR",
        "colab_type": "code",
        "outputId": "dfddaf85-9638-49a9-fd4d-ee20a558aa94",
        "colab": {
          "base_uri": "https://localhost:8080/",
          "height": 37
        }
      },
      "source": [
        "arr = []\n",
        "for i in range(0,20,2):\n",
        "  arr = arr + [i]\n",
        "print(arr)"
      ],
      "execution_count": 0,
      "outputs": [
        {
          "output_type": "stream",
          "text": [
            "[0, 2, 4, 6, 8, 10, 12, 14, 16, 18]\n"
          ],
          "name": "stdout"
        }
      ]
    },
    {
      "cell_type": "markdown",
      "metadata": {
        "id": "i25BIxyCIchB",
        "colab_type": "text"
      },
      "source": [
        "# 函数与模块"
      ]
    },
    {
      "cell_type": "markdown",
      "metadata": {
        "id": "YqhcdJsnPyAJ",
        "colab_type": "text"
      },
      "source": [
        "## 函数与注释"
      ]
    },
    {
      "cell_type": "markdown",
      "metadata": {
        "id": "4OwGZ6o4LlW4",
        "colab_type": "text"
      },
      "source": [
        "### def"
      ]
    },
    {
      "cell_type": "code",
      "metadata": {
        "id": "o2TBOFEcI6Fr",
        "colab_type": "code",
        "outputId": "1310fbf3-8567-4756-a37f-9d61ba545a0b",
        "colab": {
          "base_uri": "https://localhost:8080/",
          "height": 37
        }
      },
      "source": [
        "def fun():\n",
        "  print(666)\n",
        "  \n",
        "fun()"
      ],
      "execution_count": 0,
      "outputs": [
        {
          "output_type": "stream",
          "text": [
            "666\n"
          ],
          "name": "stdout"
        }
      ]
    },
    {
      "cell_type": "code",
      "metadata": {
        "id": "VhE9bXKMJ4ZQ",
        "colab_type": "code",
        "outputId": "212a1918-3d8f-47ea-d9ca-3741c2ad9a20",
        "colab": {
          "base_uri": "https://localhost:8080/",
          "height": 37
        }
      },
      "source": [
        "def add(aaa,bbb):\n",
        "  print(aaa + bbb)\n",
        "\n",
        "a = 9\n",
        "b = 6\n",
        "  \n",
        "add(a,b)"
      ],
      "execution_count": 0,
      "outputs": [
        {
          "output_type": "stream",
          "text": [
            "15\n"
          ],
          "name": "stdout"
        }
      ]
    },
    {
      "cell_type": "markdown",
      "metadata": {
        "id": "ehmw78pJKfaN",
        "colab_type": "text"
      },
      "source": [
        "函数内部的变量在函数外不能访问"
      ]
    },
    {
      "cell_type": "markdown",
      "metadata": {
        "id": "X7dR7cooK1th",
        "colab_type": "text"
      },
      "source": [
        "### return:"
      ]
    },
    {
      "cell_type": "code",
      "metadata": {
        "id": "MnTsEpuILRZE",
        "colab_type": "code",
        "outputId": "4d91ebae-e9f2-469a-c2c7-1b97b764ba4b",
        "colab": {
          "base_uri": "https://localhost:8080/",
          "height": 37
        }
      },
      "source": [
        "def max(a, b):\n",
        "  if(a>b):\n",
        "    return a\n",
        "  else:\n",
        "    return b\n",
        "  \n",
        "  \n",
        "max(5,100)"
      ],
      "execution_count": 0,
      "outputs": [
        {
          "output_type": "execute_result",
          "data": {
            "text/plain": [
              "100"
            ]
          },
          "metadata": {
            "tags": []
          },
          "execution_count": 18
        }
      ]
    },
    {
      "cell_type": "markdown",
      "metadata": {
        "id": "pSoO0Pz9LguX",
        "colab_type": "text"
      },
      "source": [
        "### comment"
      ]
    },
    {
      "cell_type": "code",
      "metadata": {
        "id": "PCbSRovxMTbc",
        "colab_type": "code",
        "outputId": "0e9869c6-c481-4898-bda6-773aae40b632",
        "colab": {
          "base_uri": "https://localhost:8080/",
          "height": 37
        }
      },
      "source": [
        "# this is a comment\n",
        "print (999)"
      ],
      "execution_count": 0,
      "outputs": [
        {
          "output_type": "stream",
          "text": [
            "999\n"
          ],
          "name": "stdout"
        }
      ]
    },
    {
      "cell_type": "markdown",
      "metadata": {
        "id": "wz8Hhf_AMske",
        "colab_type": "text"
      },
      "source": [
        "### docstrings"
      ]
    },
    {
      "cell_type": "markdown",
      "metadata": {
        "id": "GqziGzF-NR0W",
        "colab_type": "text"
      },
      "source": [
        "单引号双引号均可。  \n",
        "三个引号开头， 三个引号结尾。"
      ]
    },
    {
      "cell_type": "code",
      "metadata": {
        "id": "CoCwZ3tAMwMn",
        "colab_type": "code",
        "outputId": "ea37e328-7d28-497e-97e2-8c0753ce807e",
        "colab": {
          "base_uri": "https://localhost:8080/",
          "height": 37
        }
      },
      "source": [
        "def shout(word):\n",
        "  \"\"\"\n",
        "  Docstrings here\n",
        "  \"\"\"\n",
        "  print(word + \"!!!\")\n",
        "  \n",
        "  \n",
        "shout(\"ahaha\")"
      ],
      "execution_count": 0,
      "outputs": [
        {
          "output_type": "stream",
          "text": [
            "ahaha!!!\n"
          ],
          "name": "stdout"
        }
      ]
    },
    {
      "cell_type": "code",
      "metadata": {
        "id": "eimBcPx1NLy_",
        "colab_type": "code",
        "outputId": "53423e83-63d9-48e6-ee7a-56103e785df4",
        "colab": {
          "base_uri": "https://localhost:8080/",
          "height": 37
        }
      },
      "source": [
        "def shout(word):\n",
        "  '''\n",
        "  Docstrings here\n",
        "  '''\n",
        "  print(word + \"!!!\")\n",
        "  \n",
        "  \n",
        "shout(\"ahaha\")"
      ],
      "execution_count": 0,
      "outputs": [
        {
          "output_type": "stream",
          "text": [
            "ahaha!!!\n"
          ],
          "name": "stdout"
        }
      ]
    },
    {
      "cell_type": "markdown",
      "metadata": {
        "id": "PPGboGa2NO-I",
        "colab_type": "text"
      },
      "source": [
        "### functions can be assigned and reassigned to variables"
      ]
    },
    {
      "cell_type": "code",
      "metadata": {
        "id": "ss9n8E9_OB9W",
        "colab_type": "code",
        "outputId": "e96c4c36-2e83-47c7-ca6b-569223f2ba06",
        "colab": {
          "base_uri": "https://localhost:8080/",
          "height": 37
        }
      },
      "source": [
        "def multiply(x, y):\n",
        "  return x * y\n",
        "\n",
        "a = 3\n",
        "b = 5\n",
        "op = multiply\n",
        "\n",
        "op(a,b)"
      ],
      "execution_count": 0,
      "outputs": [
        {
          "output_type": "execute_result",
          "data": {
            "text/plain": [
              "15"
            ]
          },
          "metadata": {
            "tags": []
          },
          "execution_count": 31
        }
      ]
    },
    {
      "cell_type": "markdown",
      "metadata": {
        "id": "CrX5jTQ6OkW4",
        "colab_type": "text"
      },
      "source": [
        "### functions can be used as arguments"
      ]
    },
    {
      "cell_type": "code",
      "metadata": {
        "id": "MMfzJO4qOsNe",
        "colab_type": "code",
        "outputId": "f43b8678-266d-4c43-ea57-d91a34acb9c7",
        "colab": {
          "base_uri": "https://localhost:8080/",
          "height": 37
        }
      },
      "source": [
        "def add(x, y):\n",
        "  return x + y\n",
        "\n",
        "def twice(func, x, y):\n",
        "  return func(func(x, y), func(x, y))\n",
        "\n",
        "a = 10\n",
        "b = 22\n",
        "\n",
        "twice(add, 10, 22)"
      ],
      "execution_count": 0,
      "outputs": [
        {
          "output_type": "execute_result",
          "data": {
            "text/plain": [
              "64"
            ]
          },
          "metadata": {
            "tags": []
          },
          "execution_count": 33
        }
      ]
    },
    {
      "cell_type": "markdown",
      "metadata": {
        "id": "ZNjB13zGP3PJ",
        "colab_type": "text"
      },
      "source": [
        "## module"
      ]
    },
    {
      "cell_type": "markdown",
      "metadata": {
        "id": "Hwn9fJ0gQMQb",
        "colab_type": "text"
      },
      "source": [
        "### 演示 random 模块"
      ]
    },
    {
      "cell_type": "code",
      "metadata": {
        "id": "Zav_74W9P7wq",
        "colab_type": "code",
        "outputId": "0a329df9-14b5-431b-ea9a-4f8e480452fb",
        "colab": {
          "base_uri": "https://localhost:8080/",
          "height": 111
        }
      },
      "source": [
        "import random\n",
        "for i in range(5):\n",
        "  value = random.randint(1, 6)\n",
        "  print(value)"
      ],
      "execution_count": 0,
      "outputs": [
        {
          "output_type": "stream",
          "text": [
            "1\n",
            "1\n",
            "3\n",
            "3\n",
            "2\n"
          ],
          "name": "stdout"
        }
      ]
    },
    {
      "cell_type": "markdown",
      "metadata": {
        "id": "B9_U_zk3QGP_",
        "colab_type": "text"
      },
      "source": [
        "### from module import func\n"
      ]
    },
    {
      "cell_type": "code",
      "metadata": {
        "id": "IzSBB2MqZC44",
        "colab_type": "code",
        "outputId": "0719cb80-fc1f-42ae-9c48-66d148bc9cea",
        "colab": {
          "base_uri": "https://localhost:8080/",
          "height": 37
        }
      },
      "source": [
        "from math import pi\n",
        "print(pi)"
      ],
      "execution_count": 0,
      "outputs": [
        {
          "output_type": "stream",
          "text": [
            "3.141592653589793\n"
          ],
          "name": "stdout"
        }
      ]
    },
    {
      "cell_type": "code",
      "metadata": {
        "id": "-29H6VDuZSR6",
        "colab_type": "code",
        "outputId": "52c4af8a-d440-4c5a-b165-c35858740009",
        "colab": {
          "base_uri": "https://localhost:8080/",
          "height": 74
        }
      },
      "source": [
        "from math import pi, sqrt, sin, radians\n",
        "print(sqrt(9))\n",
        "print(pi)\n",
        "print(sin(radians(30)))"
      ],
      "execution_count": 0,
      "outputs": [
        {
          "output_type": "stream",
          "text": [
            "3.0\n",
            "3.141592653589793\n",
            "0.49999999999999994\n"
          ],
          "name": "stdout"
        }
      ]
    },
    {
      "cell_type": "markdown",
      "metadata": {
        "id": "_KRhq-6OZjqp",
        "colab_type": "text"
      },
      "source": [
        "### from module import func as func_alias"
      ]
    },
    {
      "cell_type": "code",
      "metadata": {
        "id": "okv3yNWRb8wB",
        "colab_type": "code",
        "outputId": "24a6b3d5-2369-4d23-ca92-f04e077bb3da",
        "colab": {
          "base_uri": "https://localhost:8080/",
          "height": 37
        }
      },
      "source": [
        "from math import sqrt as q\n",
        "q(64)"
      ],
      "execution_count": 0,
      "outputs": [
        {
          "output_type": "execute_result",
          "data": {
            "text/plain": [
              "8.0"
            ]
          },
          "metadata": {
            "tags": []
          },
          "execution_count": 52
        }
      ]
    },
    {
      "cell_type": "markdown",
      "metadata": {
        "id": "09YlpgjbcVKL",
        "colab_type": "text"
      },
      "source": [
        "### import module as module_alias"
      ]
    },
    {
      "cell_type": "code",
      "metadata": {
        "id": "dY30A2kUcgG2",
        "colab_type": "code",
        "outputId": "c8a14d45-6608-45ae-d220-6710aee9d37a",
        "colab": {
          "base_uri": "https://localhost:8080/",
          "height": 37
        }
      },
      "source": [
        "import math as m\n",
        "m.pi"
      ],
      "execution_count": 0,
      "outputs": [
        {
          "output_type": "execute_result",
          "data": {
            "text/plain": [
              "3.141592653589793"
            ]
          },
          "metadata": {
            "tags": []
          },
          "execution_count": 54
        }
      ]
    },
    {
      "cell_type": "markdown",
      "metadata": {
        "id": "nGEVtSsLdIjs",
        "colab_type": "text"
      },
      "source": [
        "## Standard Library & PyPI(pip)"
      ]
    },
    {
      "cell_type": "markdown",
      "metadata": {
        "id": "5qps24OGdY5g",
        "colab_type": "text"
      },
      "source": [
        "string,re,datetime,math,random,os,json,sys ...."
      ]
    },
    {
      "cell_type": "markdown",
      "metadata": {
        "id": "WRRQNb71df1z",
        "colab_type": "text"
      },
      "source": [
        "Python Package Index"
      ]
    }
  ]
}